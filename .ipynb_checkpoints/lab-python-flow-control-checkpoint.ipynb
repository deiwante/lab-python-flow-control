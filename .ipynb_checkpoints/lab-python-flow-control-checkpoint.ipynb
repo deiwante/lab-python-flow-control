{
 "cells": [
  {
   "cell_type": "markdown",
   "id": "d3bfc191-8885-42ee-b0a0-bbab867c6f9f",
   "metadata": {
    "tags": []
   },
   "source": [
    "# Lab | Flow Control"
   ]
  },
  {
   "cell_type": "markdown",
   "id": "3851fcd1-cf98-4653-9c89-e003b7ec9400",
   "metadata": {},
   "source": [
    "## Exercise: Managing Customer Orders Optimized\n",
    "\n",
    "In the last lab, you were starting an online store that sells various products. To ensure smooth operations, you developed a program that manages customer orders and inventory.\n",
    "\n",
    "You did so without using flow control. Let's go a step further and improve this code.\n",
    "\n",
    "Follow the steps below to complete the exercise:\n",
    "\n",
    "1. Look at your code from the lab data structures, and improve repeated code with loops.\n",
    "\n",
    "2. Instead of asking the user to input the name of three products that a customer wants to order, do the following:\n",
    "    \n",
    "    a. Prompt the user to enter the name of a product that a customer wants to order.\n",
    "    \n",
    "    b. Add the product name to the \"customer_orders\" set.\n",
    "    \n",
    "    c. Ask the user if they want to add another product (yes/no).\n",
    "    \n",
    "    d. Continue the loop until the user does not want to add another product.\n",
    "\n",
    "3. Instead of updating the inventory by subtracting 1 from the quantity of each product, only do it for  the products that were ordered (those in \"customer_orders\")."
   ]
  },
  {
   "cell_type": "code",
   "execution_count": 1,
   "id": "e13930b2",
   "metadata": {},
   "outputs": [
    {
     "name": "stdout",
     "output_type": "stream",
     "text": [
      "Enter the quantity of t-shirts available: 5\n",
      "Enter the quantity of mugs available: 5\n",
      "Enter the quantity of hats available: 5\n",
      "Enter the quantity of books available: 5\n",
      "Enter the quantity of keychains available: 5\n",
      "Enter the name of product to order: hat\n",
      "Would you like to add another product? yes/noyes\n",
      "Enter the name of product to order: book\n",
      "Would you like to add another product? Yes/Noyes\n",
      "Enter the name of product to order: hehehe\n",
      "Would you like to add another product? Yes/Nono\n",
      "Thank you for buying\n",
      "Products in your cart: {'hat', 'hehehe', 'book'}\n",
      "\n",
      "Order Statistics:\n",
      "Total Products Ordered: 3\n",
      "\n",
      "Updated Inventory:\n",
      "T-shirt: 5\n",
      "Mug: 5\n",
      "Hat: 4\n",
      "Book: 4\n",
      "Keychain: 5\n"
     ]
    }
   ],
   "source": [
    "products = [\"t-shirt\", \"mug\", \"hat\", \"book\", \"keychain\"]  \n",
    "inventory = {}\n",
    "for product in products:\n",
    "    quantity = input(f\"Enter the quantity of {product}s available: \")\n",
    "    inventory[product] = int(quantity)\n",
    "customer_orders = set()\n",
    "\n",
    "order = input(f\"Enter the name of product to order: \").lower()\n",
    "customer_orders.add(order)\n",
    "\n",
    "answer = input(f\"Would you like to add another product? yes/no\")\n",
    "while answer == \"yes\" :\n",
    "        order = input(f\"Enter the name of product to order: \").lower()\n",
    "        customer_orders.add(order)\n",
    "        answer = input(f\"Would you like to add another product? Yes/No\")\n",
    "for product in customer_orders:\n",
    "    if product in inventory:\n",
    "        inventory[product] -= 1        \n",
    "#else:\n",
    "print(\"Thank you for buying\")\n",
    "    \n",
    "print(\"Products in your cart:\", customer_orders)\n",
    "\n",
    "total_products_ordered = len(customer_orders)\n",
    "percentage_ordered = (total_products_ordered / len(products)) * 100\n",
    "order_status = (total_products_ordered, percentage_ordered)  \n",
    "\n",
    "print(\"\\nOrder Statistics:\")\n",
    "print(\"Total Products Ordered:\", total_products_ordered)\n",
    "\n",
    "print(\"\\nUpdated Inventory:\")\n",
    "for product, quantity in inventory.items():\n",
    "    print(product.capitalize() + \":\", quantity)  "
   ]
  },
  {
   "cell_type": "code",
   "execution_count": null,
   "id": "9e719b56",
   "metadata": {},
   "outputs": [],
   "source": []
  }
 ],
 "metadata": {
  "kernelspec": {
   "display_name": "Python 3 (ipykernel)",
   "language": "python",
   "name": "python3"
  },
  "language_info": {
   "codemirror_mode": {
    "name": "ipython",
    "version": 3
   },
   "file_extension": ".py",
   "mimetype": "text/x-python",
   "name": "python",
   "nbconvert_exporter": "python",
   "pygments_lexer": "ipython3",
   "version": "3.11.5"
  }
 },
 "nbformat": 4,
 "nbformat_minor": 5
}
